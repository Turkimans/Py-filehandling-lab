{
 "cells": [
  {
   "cell_type": "code",
   "execution_count": 1,
   "id": "20571947-5844-488d-a95a-d0168e91a46c",
   "metadata": {
    "tags": []
   },
   "outputs": [
    {
     "name": "stdout",
     "output_type": "stream",
     "text": [
      "Working hard for something we don't care about is called stress, Working hard for something we love is called passion\n"
     ]
    }
   ],
   "source": [
    "with open(\"string.txt\", \"r\") as file:\n",
    "    content = file.read()\n",
    "print(content)"
   ]
  },
  {
   "cell_type": "code",
   "execution_count": 10,
   "id": "ac3aa9a1-6460-45ee-8942-1cb19a2cfa87",
   "metadata": {
    "tags": []
   },
   "outputs": [
    {
     "name": "stdout",
     "output_type": "stream",
     "text": [
      "Working\n",
      "hard\n"
     ]
    }
   ],
   "source": [
    "with open('string.txt', 'r') as file:\n",
    "    c = file.read()\n",
    "\n",
    "s1 = c[0:7]\n",
    "s2 = c[8:12]\n",
    "\n",
    "print(s1)\n",
    "print(s2)\n"
   ]
  },
  {
   "cell_type": "code",
   "execution_count": 16,
   "id": "2cd0a700-ea3b-437a-8348-472e4b5a5996",
   "metadata": {
    "tags": []
   },
   "outputs": [],
   "source": [
    "with open(\"string.txt\", \"r\") as file:\n",
    "    c1 = file.read()\n",
    "\n",
    "sub1 = [c1[0:7], c1[8:12]]\n",
    "\n",
    "for i, sub in enumerate(sub1, 1):\n",
    "    filename = f\"part_{i}.txt\"\n",
    "    with open(filename, \"w\") as output:\n",
    "        output.write(sub)\n"
   ]
  },
  {
   "cell_type": "code",
   "execution_count": 17,
   "id": "e4075943-d4d3-432d-a322-47570cf00370",
   "metadata": {
    "tags": []
   },
   "outputs": [],
   "source": []
  },
  {
   "cell_type": "code",
   "execution_count": null,
   "id": "d3e1b167-2547-48bf-9776-30a49d9f6693",
   "metadata": {},
   "outputs": [],
   "source": []
  }
 ],
 "metadata": {
  "kernelspec": {
   "display_name": "Python 3 (ipykernel)",
   "language": "python",
   "name": "python3"
  },
  "language_info": {
   "codemirror_mode": {
    "name": "ipython",
    "version": 3
   },
   "file_extension": ".py",
   "mimetype": "text/x-python",
   "name": "python",
   "nbconvert_exporter": "python",
   "pygments_lexer": "ipython3",
   "version": "3.11.4"
  }
 },
 "nbformat": 4,
 "nbformat_minor": 5
}
